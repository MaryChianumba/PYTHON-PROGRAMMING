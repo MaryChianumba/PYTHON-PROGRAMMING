{
 "cells": [
  {
   "cell_type": "code",
   "execution_count": 1,
   "id": "e8aa48ca",
   "metadata": {},
   "outputs": [],
   "source": [
    "#QUESTION ONE\n",
    "\n",
    "numWaterPacks = 14\n",
    "numSuitCases = 2\n",
    "numGolfKit = 1\n",
    "numGolfClubs = 24"
   ]
  },
  {
   "cell_type": "code",
   "execution_count": null,
   "id": "59c29d76",
   "metadata": {},
   "outputs": [],
   "source": [
    "#QUESTION TWO\n",
    "\n",
    "vehicleSpeed = 35kph\n",
    "'Error: 35 is an integer and kph is a string and should be in quotation marks, and so cannot be used together'\n",
    "\n",
    "studentWeight = 75 kg\n",
    "'Error: 75 is an integer and kg is a string and should be put in quotation marks'\n",
    "\n",
    "happiness Rating = 'Very Happy'\n",
    "'Error: the variable happiness Rating should be together, there should be no whitespace in between them.'\n",
    "\n",
    "count, subcount = 45\n",
    "'Error: the vairable shouldn't have a whitespace in between'"
   ]
  },
  {
   "cell_type": "code",
   "execution_count": 3,
   "id": "aa59c20e",
   "metadata": {},
   "outputs": [],
   "source": [
    "#QUESTION THREE\n",
    "\n",
    "studNames = ['Rowland Brooks', 'Tambe Bwali', 'Bitrus Yagi', 'Kofi Kwame', 'Butuwase Nglesi', 'Peter Okafor', 'Adebo Babalaki']\n",
    "\n",
    "             "
   ]
  },
  {
   "cell_type": "code",
   "execution_count": 5,
   "id": "eb915557",
   "metadata": {},
   "outputs": [
    {
     "name": "stdout",
     "output_type": "stream",
     "text": [
      "['Rowland Brooks', 'Tambe Bwali', 'Bitrus Yagi', 'Kofi Kwame', 'Butuwase Nglesi', 'Peter Okafor', 'Adebo Babalaki']\n"
     ]
    }
   ],
   "source": [
    "print(studNames)"
   ]
  },
  {
   "cell_type": "code",
   "execution_count": 7,
   "id": "33e24bc7",
   "metadata": {},
   "outputs": [],
   "source": [
    "studAge = [30, 27, 40, 51, 38, 33, 51 ]"
   ]
  },
  {
   "cell_type": "code",
   "execution_count": 8,
   "id": "89335e0c",
   "metadata": {},
   "outputs": [],
   "source": [
    "marStatus = ['single', 'married', 'married', 'single', 'single', 'married', 'divorced']"
   ]
  },
  {
   "cell_type": "code",
   "execution_count": 10,
   "id": "be74b48a",
   "metadata": {},
   "outputs": [],
   "source": [
    "numChildren = [4, 6, 2, 7, 0, 3, 9]"
   ]
  },
  {
   "cell_type": "code",
   "execution_count": null,
   "id": "de1b3e1f",
   "metadata": {},
   "outputs": [],
   "source": [
    "studNames = ['Rowland Brooks', 'Tambe Bwali', 'Bitrus Yagi', 'Kofi Kwame', 'Butuwase Nglesi', 'Peter Okafor', 'Adebo Babalaki']\n",
    "studAge = [30, 27, 40, 51, 38, 33, 51 ]\n",
    "marStatus = ['single', 'married', 'married', 'single', 'single', 'married', 'divorced']\n",
    "numChildren = [4, 6, 2, 7, 0, 3, 9]"
   ]
  },
  {
   "cell_type": "code",
   "execution_count": 11,
   "id": "9593f256",
   "metadata": {},
   "outputs": [],
   "source": [
    "studList = [studNames, studAge, marStatus, numChildren]"
   ]
  },
  {
   "cell_type": "code",
   "execution_count": 12,
   "id": "d1fc8e20",
   "metadata": {},
   "outputs": [
    {
     "name": "stdout",
     "output_type": "stream",
     "text": [
      "[['Rowland Brooks', 'Tambe Bwali', 'Bitrus Yagi', 'Kofi Kwame', 'Butuwase Nglesi', 'Peter Okafor', 'Adebo Babalaki'], [30, 27, 40, 51, 38, 33, 51], ['single', 'married', 'married', 'single', 'single', 'married', 'divorced'], [4, 6, 2, 7, 0, 3, 9]]\n"
     ]
    }
   ],
   "source": [
    "print(studList)"
   ]
  },
  {
   "cell_type": "code",
   "execution_count": 22,
   "id": "421fe2b9",
   "metadata": {},
   "outputs": [],
   "source": [
    "#QUESTION FOUR\n",
    "\n",
    "amntEarned = 12000\n"
   ]
  },
  {
   "cell_type": "code",
   "execution_count": 16,
   "id": "f61e2f30",
   "metadata": {},
   "outputs": [],
   "source": [
    "amtNgelesi = 300\n",
    "amtBelinda = 500\n",
    "outstndBills = 3000"
   ]
  },
  {
   "cell_type": "code",
   "execution_count": 18,
   "id": "d9167905",
   "metadata": {},
   "outputs": [],
   "source": [
    "totalBills = (amtNgelesi+amtBelinda+outstndBills)"
   ]
  },
  {
   "cell_type": "code",
   "execution_count": 19,
   "id": "c9795d41",
   "metadata": {},
   "outputs": [
    {
     "name": "stdout",
     "output_type": "stream",
     "text": [
      "3800\n"
     ]
    }
   ],
   "source": [
    "print(totalBills)"
   ]
  },
  {
   "cell_type": "code",
   "execution_count": 27,
   "id": "24dd4f88",
   "metadata": {},
   "outputs": [],
   "source": [
    "amtSaved = 0.5*(amntEarned)"
   ]
  },
  {
   "cell_type": "code",
   "execution_count": 28,
   "id": "713eb927",
   "metadata": {},
   "outputs": [
    {
     "name": "stdout",
     "output_type": "stream",
     "text": [
      "6000.0\n"
     ]
    }
   ],
   "source": [
    "print(amtSaved)"
   ]
  },
  {
   "cell_type": "code",
   "execution_count": 34,
   "id": "57bb4f7c",
   "metadata": {},
   "outputs": [],
   "source": [
    "amntPaid = (totalBills+amtSaved)"
   ]
  },
  {
   "cell_type": "code",
   "execution_count": 35,
   "id": "78043723",
   "metadata": {},
   "outputs": [
    {
     "name": "stdout",
     "output_type": "stream",
     "text": [
      "9800.0\n"
     ]
    }
   ],
   "source": [
    "print(amntPaid)"
   ]
  },
  {
   "cell_type": "code",
   "execution_count": 36,
   "id": "84ef0b13",
   "metadata": {},
   "outputs": [],
   "source": [
    "amntLeft = (amntEarned-amntPaid)"
   ]
  },
  {
   "cell_type": "code",
   "execution_count": 37,
   "id": "7f711e8c",
   "metadata": {},
   "outputs": [
    {
     "name": "stdout",
     "output_type": "stream",
     "text": [
      "2200.0\n"
     ]
    }
   ],
   "source": [
    "print(amntLeft)"
   ]
  },
  {
   "cell_type": "code",
   "execution_count": 38,
   "id": "5009e4a3",
   "metadata": {},
   "outputs": [],
   "source": [
    "amntNathan = 2500"
   ]
  },
  {
   "cell_type": "code",
   "execution_count": 39,
   "id": "4a88ca48",
   "metadata": {},
   "outputs": [],
   "source": [
    "amntAtHand = (amntLeft+amntNathan)"
   ]
  },
  {
   "cell_type": "code",
   "execution_count": 40,
   "id": "f6684ccc",
   "metadata": {},
   "outputs": [
    {
     "name": "stdout",
     "output_type": "stream",
     "text": [
      "4700.0\n"
     ]
    }
   ],
   "source": [
    "print(amntAtHand)"
   ]
  },
  {
   "cell_type": "code",
   "execution_count": null,
   "id": "033ff056",
   "metadata": {},
   "outputs": [],
   "source": []
  }
 ],
 "metadata": {
  "kernelspec": {
   "display_name": "Python 3 (ipykernel)",
   "language": "python",
   "name": "python3"
  },
  "language_info": {
   "codemirror_mode": {
    "name": "ipython",
    "version": 3
   },
   "file_extension": ".py",
   "mimetype": "text/x-python",
   "name": "python",
   "nbconvert_exporter": "python",
   "pygments_lexer": "ipython3",
   "version": "3.9.7"
  }
 },
 "nbformat": 4,
 "nbformat_minor": 5
}
